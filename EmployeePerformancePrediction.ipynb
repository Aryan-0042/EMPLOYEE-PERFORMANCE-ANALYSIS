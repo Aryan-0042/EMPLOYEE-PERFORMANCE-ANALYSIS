{
 "cells": [
  {
   "cell_type": "markdown",
   "id": "d79c4deb-2c44-4fd2-88a9-6e5631528951",
   "metadata": {},
   "source": [
    "Employee Performance Prediction Dataset Analysis: "
   ]
  },
  {
   "cell_type": "markdown",
   "id": "67f4ceda-b296-4642-8391-efe9332e2850",
   "metadata": {},
   "source": [
    "<u>Objectives of the project :</u> \n",
    "1. Load the dataset into a Pandas DataFrame and display the first 10 rows.\r\n",
    "2. What are the column names and their respective data types in the dataset?\r\n",
    "3. How many rows and columns are there in the dataset?\r\n",
    "4. Select the Name, Age, and Salary columns using df[].\r\n",
    "5. Select the first 5 rows of the DataFrame using the iloc method.\r\n",
    "6. Select all rows where the Department is \"Sales\" using the loc method.\r\n",
    "7. Select rows where the Salary is greater than 8000 and Status is \"Active\".\r\n",
    "8. Extract the rows where the employee has been with the company for more than 5 years and has a Performance Score of at least 4.\r\n",
    "9. Select every alternate row from the DataFrame using slicing with iloc.\r\n",
    "10. Retrieve rows where the employee belongs to \"Sales\" and has a Salary in the top 10% of all salaries.\r\n",
    "11. Replace all \"Inactive\" values in the Status column with \"Retired\".\r\n",
    "12. Add a new column Bonus where values are 10% of the Salary column.\r\n",
    "13. Update the Performance Score of employees in the \"IT\" department to 5 if it is NaN.\r\n",
    "14. Modify the Experience of employees with less than 2 years to 2.\r\n",
    "15. Normalize the Salary column so that all values are between 0 and 1.\r\n",
    "16. Replace all Location values with \"Remote\" for employees with a Performance Score below 3.\r\n",
    "17. Create a new column Experience Level with values \"Junior\", \"Mid\", or \"Senior\" based on the Experience.\r\n",
    "18. Add a new row with specific values using the append() method.\r\n",
    "19. Delete the column Session from the DataFrame.\r\n",
    "20. Delete rows where the Age is greater than 60.\r\n",
    "21. Add a new column Age Group with values \"Young\", \"Middle-aged\", or \"Senior\" based on Age.\r\n",
    "22. Identify all columns with missing values using the isna() method.\r\n",
    "23. Fill the missing values in Performance Score with the average score of that column.\r\n",
    "24. Drop all rows with missing values using the dropna() method.\r\n",
    "25. Replace missing values in Performance Score with the median of the scores, grouped by Department.\r\n",
    "26. Identify rows where the employee is in the \"IT\" department and their Age is above the average Age of \"IT\" employees\r\n",
    "27. Identify rows with duplicate Name and Joining Date combinations, and remove duplicates.\r\n",
    "28. Remove rows where the Experience value is inconsistent with the Age (e.g., Experience > Age - 18).\r\n",
    "29. Sort the DataFrame by Salary in descending order.\r\n",
    "30. Sort the DataFrame by Department and then by Joining Date in ascending order.\r\n",
    "31. Rank all employees by Salary within their Department and add the rank as a new column.\r\n",
    "32. Sort the dataset by Experience in descending order, but break ties using Performance Score in ascending order.\r\n",
    "33. Create a new DataFrame containing only employees in \"HR\" with a Salary above 5000.\r\n",
    "34. Filter out all rows where the Location is \"Chicago\".\r\n",
    "35. Delete all rows where the Performance Score is below 2.\r\n",
    "36. Find the average Salary for each Department.\r\n",
    "37. Calculate the total Salary of all employees grouped by Status.\r\n",
    "38. Find the maximum Performance Score for employees in each Location.\r\n",
    "39. Calculate the total Salary paid to employees who joined in each year.\r\n",
    "40. Find the department with the highest average Performance Score.\r\n",
    "41. Count the number of employees in each Location grouped by their Session.\r\n",
    "42. Group employees by Status and calculate the sum, mean, and standard deviation of their Salary.\r\n",
    "43. Use the apply() method to create a new column Monthly Salary by dividing the Salary by 12.\r\n",
    "44. Use the applymap() method to convert all string values in the DataFrame to uppercase.\r\n",
    "45. Create a second dataset containing Department and Budget. Perform an inner join with the original dataset.\r\n",
    "46. Merge the dataset with another dataset that includes additional information about employee ID and their recent Projects.\r\n",
    "47. Perform a left join with a dataset containing Department and Team Lead details, adding Team Lead to the DataFrame.\r\n",
    "48. Create a DataFrame with employee ID and Project Count, then merge it with the original dataset. Calculate the average Salary per project.\r\n",
    "49. Calculate the percentage increase in Salary for each employee compared to the average Salary in their department."
   ]
  },
  {
   "cell_type": "code",
   "execution_count": 377,
   "id": "2acf39fd-a921-4f01-9ebb-3f87001976fb",
   "metadata": {},
   "outputs": [],
   "source": [
    "df = pd.read_csv(\"Employe_Performance_dataset.csv\")"
   ]
  },
  {
   "cell_type": "code",
   "execution_count": 378,
   "id": "67f7631e-218f-416d-82f1-0ce66a019aa1",
   "metadata": {},
   "outputs": [
    {
     "name": "stdout",
     "output_type": "stream",
     "text": [
      "   ID                Name  Age  Gender Department  Salary Joining Date  \\\n",
      "0   1        Cory Escobar   48  Female         HR    5641   2015-05-03   \n",
      "1   2     Timothy Sanchez   25   Other      Sales    4249   2020-11-09   \n",
      "2   3        Chad Nichols   57   Other      Sales    3058   2019-02-12   \n",
      "3   4  Christine Williams   58  Female         IT    5895   2017-09-08   \n",
      "4   5        Amber Harris   35   Other         IT    4317   2020-02-15   \n",
      "5   6         Ashley Howe   29  Female         HR    2591   2016-06-24   \n",
      "6   7         David Olson   39  Female      Sales    6826   2023-05-11   \n",
      "7   8        Amanda Baker   52   Other         HR    6285   2015-04-01   \n",
      "8   9       Jeremy Wright   63  Female      Sales    9862   2024-02-07   \n",
      "9  10      Brian Faulkner   30    Male         IT    8202   2018-05-26   \n",
      "\n",
      "   Performance Score  Experience    Status     Location  Session  \n",
      "0                2.0          16    Active     New York    Night  \n",
      "1                2.0          11  Inactive  Los Angeles  Evening  \n",
      "2                NaN           1  Inactive     New York  Morning  \n",
      "3                2.0          13  Inactive  Los Angeles  Evening  \n",
      "4                5.0          16  Inactive     New York  Evening  \n",
      "5                1.0           6    Active      Chicago  Evening  \n",
      "6                NaN           4    Active     New York    Night  \n",
      "7                NaN           8  Inactive      Chicago  Evening  \n",
      "8                NaN           3  Inactive     New York    Night  \n",
      "9                1.0           9    Active  Los Angeles  Morning  \n"
     ]
    }
   ],
   "source": [
    "# 1. Display the first 10 rows\n",
    "print(df.head(10))"
   ]
  },
  {
   "cell_type": "code",
   "execution_count": 379,
   "id": "ed7f24d4-ef85-4ffe-91c2-f2c6ce09dc8a",
   "metadata": {},
   "outputs": [
    {
     "name": "stdout",
     "output_type": "stream",
     "text": [
      "ID                     int64\n",
      "Name                  object\n",
      "Age                    int64\n",
      "Gender                object\n",
      "Department            object\n",
      "Salary                 int64\n",
      "Joining Date          object\n",
      "Performance Score    float64\n",
      "Experience             int64\n",
      "Status                object\n",
      "Location              object\n",
      "Session               object\n",
      "dtype: object\n"
     ]
    }
   ],
   "source": [
    "# 2. Column names and data types\n",
    "print(df.dtypes)"
   ]
  },
  {
   "cell_type": "code",
   "execution_count": 380,
   "id": "612b3ac2-1ad6-482c-8c19-83d406e4402f",
   "metadata": {},
   "outputs": [
    {
     "name": "stdout",
     "output_type": "stream",
     "text": [
      "Rows and Columns: (1000, 12)\n"
     ]
    }
   ],
   "source": [
    "# 3. Shape of dataset (rows and columns)\n",
    "print(\"Rows and Columns:\", df.shape)"
   ]
  },
  {
   "cell_type": "code",
   "execution_count": 381,
   "id": "26fc2434-5e79-4a13-a5c9-6c9e9164c64c",
   "metadata": {},
   "outputs": [
    {
     "name": "stdout",
     "output_type": "stream",
     "text": [
      "                   Name  Age  Salary\n",
      "0          Cory Escobar   48    5641\n",
      "1       Timothy Sanchez   25    4249\n",
      "2          Chad Nichols   57    3058\n",
      "3    Christine Williams   58    5895\n",
      "4          Amber Harris   35    4317\n",
      "..                  ...  ...     ...\n",
      "995       Pamela Reeves   49    7652\n",
      "996        Todd Johnson   29    6754\n",
      "997     Michael Sanchez   18    5278\n",
      "998       Ashley Taylor   51    5437\n",
      "999         Shawn Scott   45    7364\n",
      "\n",
      "[1000 rows x 3 columns]\n"
     ]
    }
   ],
   "source": [
    "# 4. Select Name, Age, Salary columns\n",
    "print(df[[\"Name\", \"Age\", \"Salary\"]])"
   ]
  },
  {
   "cell_type": "code",
   "execution_count": 382,
   "id": "5d33494f-7c9f-4581-827a-af9acaf08494",
   "metadata": {},
   "outputs": [
    {
     "name": "stdout",
     "output_type": "stream",
     "text": [
      "   ID                Name  Age  Gender Department  Salary Joining Date  \\\n",
      "0   1        Cory Escobar   48  Female         HR    5641   2015-05-03   \n",
      "1   2     Timothy Sanchez   25   Other      Sales    4249   2020-11-09   \n",
      "2   3        Chad Nichols   57   Other      Sales    3058   2019-02-12   \n",
      "3   4  Christine Williams   58  Female         IT    5895   2017-09-08   \n",
      "4   5        Amber Harris   35   Other         IT    4317   2020-02-15   \n",
      "\n",
      "   Performance Score  Experience    Status     Location  Session  \n",
      "0                2.0          16    Active     New York    Night  \n",
      "1                2.0          11  Inactive  Los Angeles  Evening  \n",
      "2                NaN           1  Inactive     New York  Morning  \n",
      "3                2.0          13  Inactive  Los Angeles  Evening  \n",
      "4                5.0          16  Inactive     New York  Evening  \n"
     ]
    }
   ],
   "source": [
    "# 5. First 5 rows using iloc\n",
    "print(df.iloc[:5])"
   ]
  },
  {
   "cell_type": "code",
   "execution_count": 383,
   "id": "b3729469-bf11-4f0f-83e8-06075abeddda",
   "metadata": {},
   "outputs": [
    {
     "name": "stdout",
     "output_type": "stream",
     "text": [
      "      ID             Name  Age  Gender Department  Salary Joining Date  \\\n",
      "1      2  Timothy Sanchez   25   Other      Sales    4249   2020-11-09   \n",
      "2      3     Chad Nichols   57   Other      Sales    3058   2019-02-12   \n",
      "6      7      David Olson   39  Female      Sales    6826   2023-05-11   \n",
      "8      9    Jeremy Wright   63  Female      Sales    9862   2024-02-07   \n",
      "10    11      Nicole Bell   42  Female      Sales    5336   2015-01-28   \n",
      "..   ...              ...  ...     ...        ...     ...          ...   \n",
      "991  992  William Schultz   23   Other      Sales    4311   2019-08-17   \n",
      "992  993   Ashley Daniels   25   Other      Sales    5524   2022-11-24   \n",
      "995  996    Pamela Reeves   49  Female      Sales    7652   2024-06-23   \n",
      "996  997     Todd Johnson   29  Female      Sales    6754   2018-07-20   \n",
      "997  998  Michael Sanchez   18    Male      Sales    5278   2023-07-05   \n",
      "\n",
      "     Performance Score  Experience    Status     Location  Session  \n",
      "1                  2.0          11  Inactive  Los Angeles  Evening  \n",
      "2                  NaN           1  Inactive     New York  Morning  \n",
      "6                  NaN           4    Active     New York    Night  \n",
      "8                  NaN           3  Inactive     New York    Night  \n",
      "10                 3.0           7    Active  Los Angeles  Evening  \n",
      "..                 ...         ...       ...          ...      ...  \n",
      "991                NaN          10  Inactive  Los Angeles  Evening  \n",
      "992                NaN           8  Inactive     New York  Morning  \n",
      "995                4.0           3    Active  Los Angeles  Evening  \n",
      "996                NaN          12  Inactive     New York  Morning  \n",
      "997                5.0           3    Active     New York  Morning  \n",
      "\n",
      "[338 rows x 12 columns]\n"
     ]
    }
   ],
   "source": [
    "# 6. Rows where Department is \"Sales\" using loc\n",
    "print(df.loc[df[\"Department\"] == \"Sales\"])"
   ]
  },
  {
   "cell_type": "code",
   "execution_count": 384,
   "id": "b3a777a5-1fa0-427a-b26b-daab91904b01",
   "metadata": {},
   "outputs": [
    {
     "name": "stdout",
     "output_type": "stream",
     "text": [
      "      ID             Name  Age  Gender Department  Salary Joining Date  \\\n",
      "9     10   Brian Faulkner   30    Male         IT    8202   2018-05-26   \n",
      "24    25    Tracy Carlson   21    Male         HR    9275   2022-04-09   \n",
      "38    39     Jordan Scott   33   Other      Sales    8678   2016-05-15   \n",
      "39    40      Lisa Wagner   36    Male         HR    8870   2024-08-12   \n",
      "60    61   Andrew Shannon   51   Other      Sales    8544   2020-02-08   \n",
      "..   ...              ...  ...     ...        ...     ...          ...   \n",
      "976  977    Kimberly Ross   19    Male      Sales    9331   2018-07-03   \n",
      "982  983    Stephen Ponce   46   Other      Sales    8696   2022-10-14   \n",
      "986  987  Melissa Bradley   39  Female         IT    9618   2015-07-05   \n",
      "988  989   Hannah Hickman   36  Female         IT    9118   2022-07-02   \n",
      "989  990    Shannon Meyer   18   Other         HR    9985   2022-11-05   \n",
      "\n",
      "     Performance Score  Experience  Status     Location  Session  \n",
      "9                  1.0           9  Active  Los Angeles  Morning  \n",
      "24                 4.0          12  Active     New York  Morning  \n",
      "38                 5.0           9  Active  Los Angeles  Evening  \n",
      "39                 4.0          17  Active  Los Angeles  Evening  \n",
      "60                 NaN           6  Active     New York  Evening  \n",
      "..                 ...         ...     ...          ...      ...  \n",
      "976                5.0          12  Active     New York  Morning  \n",
      "982                4.0           1  Active     New York  Evening  \n",
      "986                1.0          13  Active     New York  Morning  \n",
      "988                5.0           5  Active     New York    Night  \n",
      "989                4.0          18  Active      Chicago    Night  \n",
      "\n",
      "[112 rows x 12 columns]\n"
     ]
    }
   ],
   "source": [
    "# 7. Salary > 8000 and Status is \"Active\"\n",
    "print(df[(df[\"Salary\"] > 8000) & (df[\"Status\"] == \"Active\")])"
   ]
  },
  {
   "cell_type": "code",
   "execution_count": 385,
   "id": "a5671668-d08c-4ce3-aa3f-b2d8d1f6a4a5",
   "metadata": {},
   "outputs": [
    {
     "name": "stdout",
     "output_type": "stream",
     "text": [
      "      ID                Name  Age  Gender Department  Salary Joining Date  \\\n",
      "4      5        Amber Harris   35   Other         IT    4317   2020-02-15   \n",
      "11    12   Rodney Richardson   60   Other         HR    6908   2015-03-14   \n",
      "17    18  Jacqueline Randall   31  Female         HR    3519   2018-05-18   \n",
      "18    19      Nancy Stephens   38    Male         HR    9061   2017-07-16   \n",
      "24    25       Tracy Carlson   21    Male         HR    9275   2022-04-09   \n",
      "..   ...                 ...  ...     ...        ...     ...          ...   \n",
      "978  979         Michael Lee   18  Female         IT    6086   2019-05-30   \n",
      "989  990       Shannon Meyer   18   Other         HR    9985   2022-11-05   \n",
      "990  991        Amy Johnston   53  Female         HR    3991   2024-09-03   \n",
      "993  994       Brandon Bruce   31  Female         HR    3371   2018-09-25   \n",
      "998  999       Ashley Taylor   51  Female         IT    5437   2022-02-18   \n",
      "\n",
      "     Performance Score  Experience    Status     Location  Session  \n",
      "4                  5.0          16  Inactive     New York  Evening  \n",
      "11                 4.0          19    Active      Chicago    Night  \n",
      "17                 4.0           6    Active     New York  Morning  \n",
      "18                 5.0          16  Inactive      Chicago    Night  \n",
      "24                 4.0          12    Active     New York  Morning  \n",
      "..                 ...         ...       ...          ...      ...  \n",
      "978                4.0           7  Inactive  Los Angeles  Evening  \n",
      "989                4.0          18    Active      Chicago    Night  \n",
      "990                4.0           8    Active      Chicago  Morning  \n",
      "993                5.0          12  Inactive      Chicago    Night  \n",
      "998                4.0           9  Inactive  Los Angeles  Evening  \n",
      "\n",
      "[137 rows x 12 columns]\n"
     ]
    }
   ],
   "source": [
    "# 8. Experience > 5 and Performance Score ≥ 4\n",
    "print(df[(df[\"Experience\"] > 5) & (df[\"Performance Score\"] >= 4)])"
   ]
  },
  {
   "cell_type": "code",
   "execution_count": 386,
   "id": "2495aeae-b322-4bdb-9b7a-f69a18f3026b",
   "metadata": {},
   "outputs": [
    {
     "name": "stdout",
     "output_type": "stream",
     "text": [
      "      ID             Name  Age  Gender Department  Salary Joining Date  \\\n",
      "0      1     Cory Escobar   48  Female         HR    5641   2015-05-03   \n",
      "2      3     Chad Nichols   57   Other      Sales    3058   2019-02-12   \n",
      "4      5     Amber Harris   35   Other         IT    4317   2020-02-15   \n",
      "6      7      David Olson   39  Female      Sales    6826   2023-05-11   \n",
      "8      9    Jeremy Wright   63  Female      Sales    9862   2024-02-07   \n",
      "..   ...              ...  ...     ...        ...     ...          ...   \n",
      "990  991     Amy Johnston   53  Female         HR    3991   2024-09-03   \n",
      "992  993   Ashley Daniels   25   Other      Sales    5524   2022-11-24   \n",
      "994  995  Rachel Phillips   22    Male         IT    3096   2018-10-27   \n",
      "996  997     Todd Johnson   29  Female      Sales    6754   2018-07-20   \n",
      "998  999    Ashley Taylor   51  Female         IT    5437   2022-02-18   \n",
      "\n",
      "     Performance Score  Experience    Status     Location  Session  \n",
      "0                  2.0          16    Active     New York    Night  \n",
      "2                  NaN           1  Inactive     New York  Morning  \n",
      "4                  5.0          16  Inactive     New York  Evening  \n",
      "6                  NaN           4    Active     New York    Night  \n",
      "8                  NaN           3  Inactive     New York    Night  \n",
      "..                 ...         ...       ...          ...      ...  \n",
      "990                4.0           8    Active      Chicago  Morning  \n",
      "992                NaN           8  Inactive     New York  Morning  \n",
      "994                2.0           7  Inactive      Chicago  Evening  \n",
      "996                NaN          12  Inactive     New York  Morning  \n",
      "998                4.0           9  Inactive  Los Angeles  Evening  \n",
      "\n",
      "[500 rows x 12 columns]\n"
     ]
    }
   ],
   "source": [
    "# 9. Every alternate row using iloc slicing\n",
    "print(df.iloc[::2])"
   ]
  },
  {
   "cell_type": "code",
   "execution_count": 387,
   "id": "217b2089-bcef-4bff-bf83-45754dad4d1a",
   "metadata": {},
   "outputs": [
    {
     "name": "stdout",
     "output_type": "stream",
     "text": [
      "      ID                     Name  Age  Gender Department  Salary  \\\n",
      "8      9            Jeremy Wright   63  Female      Sales    9862   \n",
      "22    23             Bryce Carter   35  Female      Sales    9598   \n",
      "29    30            Rachel Ramsey   22    Male      Sales    9661   \n",
      "215  216               Sara Jones   50  Female      Sales    9377   \n",
      "228  229          Christie Warren   51  Female      Sales    9139   \n",
      "239  240      Christina Gutierrez   37    Male      Sales    9356   \n",
      "250  251           Joshua Bullock   38    Male      Sales    9924   \n",
      "263  264          Gabriela Wilson   40   Other      Sales    9455   \n",
      "275  276          Harry Alexander   22    Male      Sales    9749   \n",
      "299  300              Terry Smith   38  Female      Sales    9375   \n",
      "379  380                Dustin Le   29    Male      Sales    9726   \n",
      "381  382           David Marshall   43   Other      Sales    9269   \n",
      "405  406            Heather Scott   57    Male      Sales    9505   \n",
      "442  443          Kimberly Sparks   26   Other      Sales    9146   \n",
      "491  492  Dr. Jacob Castaneda DVM   53   Other      Sales    9181   \n",
      "516  517           Christina Lowe   35  Female      Sales    9630   \n",
      "552  553          Amanda Griffith   26    Male      Sales    9704   \n",
      "591  592          Jonathan Rangel   49   Other      Sales    9323   \n",
      "594  595           Michelle Smith   35   Other      Sales    9906   \n",
      "629  630           Patricia Scott   52   Other      Sales    9364   \n",
      "742  743           Timothy Guzman   41  Female      Sales    9409   \n",
      "756  757              James James   38    Male      Sales    9666   \n",
      "758  759          Matthew Roberts   53    Male      Sales    9917   \n",
      "778  779             David Nelson   39   Other      Sales    9653   \n",
      "796  797            Jacob Shannon   35   Other      Sales    9926   \n",
      "844  845             Gerald Cooke   33   Other      Sales    9693   \n",
      "898  899           Tiffany Jordan   44    Male      Sales    9819   \n",
      "903  904             Leslie Mason   42   Other      Sales    9658   \n",
      "932  933             Kristin Cole   50    Male      Sales    9616   \n",
      "937  938            Gary Mitchell   52  Female      Sales    9963   \n",
      "976  977            Kimberly Ross   19    Male      Sales    9331   \n",
      "\n",
      "    Joining Date  Performance Score  Experience    Status     Location  \\\n",
      "8     2024-02-07                NaN           3  Inactive     New York   \n",
      "22    2015-12-16                4.0           4  Inactive     New York   \n",
      "29    2016-08-18                2.0          17  Inactive      Chicago   \n",
      "215   2019-10-16                NaN           3    Active  Los Angeles   \n",
      "228   2020-08-16                5.0           1    Active      Chicago   \n",
      "239   2018-01-02                3.0           3    Active      Chicago   \n",
      "250   2019-01-10                4.0          20  Inactive      Chicago   \n",
      "263   2023-11-19                1.0          14    Active  Los Angeles   \n",
      "275   2019-05-15                NaN           5    Active  Los Angeles   \n",
      "299   2022-12-23                NaN           2  Inactive     New York   \n",
      "379   2015-04-13                1.0           2  Inactive      Chicago   \n",
      "381   2018-10-05                2.0          13  Inactive  Los Angeles   \n",
      "405   2024-08-18                3.0           6  Inactive     New York   \n",
      "442   2024-07-29                3.0           3  Inactive     New York   \n",
      "491   2024-02-17                5.0           1  Inactive  Los Angeles   \n",
      "516   2018-07-03                NaN           1    Active  Los Angeles   \n",
      "552   2019-05-30                NaN           9    Active     New York   \n",
      "591   2021-01-19                NaN          18  Inactive      Chicago   \n",
      "594   2018-12-18                NaN           9    Active  Los Angeles   \n",
      "629   2019-11-05                NaN           5    Active     New York   \n",
      "742   2023-09-17                NaN          16  Inactive     New York   \n",
      "756   2016-04-14                NaN          15    Active  Los Angeles   \n",
      "758   2017-07-07                1.0          16    Active  Los Angeles   \n",
      "778   2021-08-08                NaN          19  Inactive     New York   \n",
      "796   2016-09-04                NaN           7    Active      Chicago   \n",
      "844   2017-08-29                NaN          17  Inactive     New York   \n",
      "898   2022-07-15                NaN          13    Active     New York   \n",
      "903   2019-10-31                1.0          14  Inactive     New York   \n",
      "932   2017-02-03                2.0          13  Inactive  Los Angeles   \n",
      "937   2016-09-22                5.0          20  Inactive  Los Angeles   \n",
      "976   2018-07-03                5.0          12    Active     New York   \n",
      "\n",
      "     Session  \n",
      "8      Night  \n",
      "22     Night  \n",
      "29     Night  \n",
      "215  Morning  \n",
      "228    Night  \n",
      "239  Morning  \n",
      "250    Night  \n",
      "263  Morning  \n",
      "275  Morning  \n",
      "299  Morning  \n",
      "379  Evening  \n",
      "381  Evening  \n",
      "405    Night  \n",
      "442  Evening  \n",
      "491  Morning  \n",
      "516    Night  \n",
      "552  Evening  \n",
      "591  Evening  \n",
      "594  Evening  \n",
      "629  Evening  \n",
      "742  Morning  \n",
      "756  Morning  \n",
      "758  Evening  \n",
      "778  Morning  \n",
      "796    Night  \n",
      "844  Morning  \n",
      "898  Morning  \n",
      "903  Evening  \n",
      "932    Night  \n",
      "937  Morning  \n",
      "976  Morning  \n"
     ]
    }
   ],
   "source": [
    "# 10. \"Sales\" department and top 10% salary\n",
    "threshold = df[\"Salary\"].quantile(0.90)\n",
    "print(df[(df[\"Department\"] == \"Sales\") & (df[\"Salary\"] >= threshold)])"
   ]
  },
  {
   "cell_type": "code",
   "execution_count": 388,
   "id": "c03c53c8-bb6e-4edc-948a-b7f24fbef8bc",
   "metadata": {},
   "outputs": [
    {
     "name": "stdout",
     "output_type": "stream",
     "text": [
      "\n",
      "Updated Status column:\n",
      " Status\n",
      "Active     501\n",
      "Retired    499\n",
      "Name: count, dtype: int64\n"
     ]
    }
   ],
   "source": [
    "# 11. Replace \"Inactive\" with \"Retired\"\n",
    "df[\"Status\"] = df[\"Status\"].replace(\"Inactive\", \"Retired\")\n",
    "print(\"\\nUpdated Status column:\\n\", df[\"Status\"].value_counts())"
   ]
  },
  {
   "cell_type": "code",
   "execution_count": 389,
   "id": "0b45c4cb-1c47-4f24-af1d-be469a78e238",
   "metadata": {},
   "outputs": [
    {
     "name": "stdout",
     "output_type": "stream",
     "text": [
      "\n",
      " Bonus column:\n",
      "                  Name  Salary  Bonus\n",
      "0        Cory Escobar    5641  564.1\n",
      "1     Timothy Sanchez    4249  424.9\n",
      "2        Chad Nichols    3058  305.8\n",
      "3  Christine Williams    5895  589.5\n",
      "4        Amber Harris    4317  431.7\n"
     ]
    }
   ],
   "source": [
    "# 12. Add Bonus column (10% of Salary)\n",
    "df[\"Bonus\"] = df[\"Salary\"] * 0.10\n",
    "print(\"\\n Bonus column:\\n\", df[[\"Name\", \"Salary\", \"Bonus\"]].head())"
   ]
  },
  {
   "cell_type": "code",
   "execution_count": 390,
   "id": "af1d7b7c-ab01-47ce-96de-8684818d6e13",
   "metadata": {},
   "outputs": [
    {
     "name": "stdout",
     "output_type": "stream",
     "text": [
      "\n",
      "Performance Score after filling NaN in IT:\n",
      " 3     2.0\n",
      "4     5.0\n",
      "9     1.0\n",
      "12    5.0\n",
      "13    5.0\n",
      "Name: Performance Score, dtype: float64\n"
     ]
    }
   ],
   "source": [
    "# 13. Update NaN Performance Score in IT to 5\n",
    "df.loc[(df[\"Department\"] == \"IT\") & (df[\"Performance Score\"].isna()), \"Performance Score\"] = 5\n",
    "print(\"\\nPerformance Score after filling NaN in IT:\\n\", df[df[\"Department\"] == \"IT\"][\"Performance Score\"].head())\n"
   ]
  },
  {
   "cell_type": "code",
   "execution_count": 391,
   "id": "f53b4589-ac48-4378-9f35-0f41024d6908",
   "metadata": {},
   "outputs": [
    {
     "name": "stdout",
     "output_type": "stream",
     "text": [
      "\n",
      "Experience column after modification:\n",
      " 0    16\n",
      "1    11\n",
      "2     2\n",
      "3    13\n",
      "4    16\n",
      "Name: Experience, dtype: int64\n"
     ]
    }
   ],
   "source": [
    "# 14. Set Experience < 2 to 2\n",
    "df.loc[df[\"Experience\"] < 2, \"Experience\"] = 2\n",
    "print(\"\\nExperience column after modification:\\n\", df[\"Experience\"].head())"
   ]
  },
  {
   "cell_type": "code",
   "execution_count": 392,
   "id": "a81c04ca-8d95-4b17-939a-09b2d1c3c99e",
   "metadata": {},
   "outputs": [
    {
     "name": "stdout",
     "output_type": "stream",
     "text": [
      "\n",
      "Normalized Salary:\n",
      "    Salary  Salary_Normalized\n",
      "0    5641           0.454500\n",
      "1    4249           0.280020\n",
      "2    3058           0.130735\n",
      "3    5895           0.486337\n",
      "4    4317           0.288543\n"
     ]
    }
   ],
   "source": [
    "# 15. Normalize Salary\n",
    "df[\"Salary_Normalized\"] = (df[\"Salary\"] - df[\"Salary\"].min()) / (df[\"Salary\"].max() - df[\"Salary\"].min())\n",
    "print(\"\\nNormalized Salary:\\n\", df[[\"Salary\", \"Salary_Normalized\"]].head())"
   ]
  },
  {
   "cell_type": "code",
   "execution_count": 393,
   "id": "a78eaaa1-296c-4055-9c67-b8698608ff39",
   "metadata": {},
   "outputs": [
    {
     "name": "stdout",
     "output_type": "stream",
     "text": [
      "\n",
      "Updated Location where Perf Score < 3:\n",
      "                  Name  Performance Score  Location\n",
      "0        Cory Escobar                2.0    Remote\n",
      "1     Timothy Sanchez                2.0    Remote\n",
      "2        Chad Nichols                NaN  New York\n",
      "3  Christine Williams                2.0    Remote\n",
      "4        Amber Harris                5.0  New York\n"
     ]
    }
   ],
   "source": [
    "# 16. Location -> Remote if Perf Score < 3\n",
    "df.loc[df[\"Performance Score\"] < 3, \"Location\"] = \"Remote\"\n",
    "print(\"\\nUpdated Location where Perf Score < 3:\\n\", df[[\"Name\", \"Performance Score\", \"Location\"]].head())"
   ]
  },
  {
   "cell_type": "code",
   "execution_count": 394,
   "id": "54c8a452-8300-46a7-9563-67e2a371f629",
   "metadata": {},
   "outputs": [
    {
     "name": "stdout",
     "output_type": "stream",
     "text": [
      "\n",
      "Experience Level column:\n",
      "    Experience Experience Level\n",
      "0          16           Senior\n",
      "1          11              Mid\n",
      "2           2           Junior\n",
      "3          13              Mid\n",
      "4          16           Senior\n"
     ]
    }
   ],
   "source": [
    "# 17. Experience Level column\n",
    "def experience_level(exp):\n",
    "    if exp < 5:\n",
    "        return \"Junior\"\n",
    "    elif exp < 15:\n",
    "        return \"Mid\"\n",
    "    else:\n",
    "        return \"Senior\"\n",
    "df[\"Experience Level\"] = df[\"Experience\"].apply(experience_level)\n",
    "print(\"\\nExperience Level column:\\n\", df[[\"Experience\", \"Experience Level\"]].head())"
   ]
  },
  {
   "cell_type": "code",
   "execution_count": 395,
   "id": "9d7d1877-3b3a-4c2e-bd39-dded88ace9f4",
   "metadata": {},
   "outputs": [
    {
     "name": "stdout",
     "output_type": "stream",
     "text": [
      "\n",
      "New row added. Last 1 row:\n",
      "        ID      Name  Age Gender Department  Salary Joining Date  \\\n",
      "1000  999  John Doe   40   Male         HR    7000   2022-01-01   \n",
      "\n",
      "      Performance Score  Experience  Status Location  Session  Bonus  \\\n",
      "1000                4.0          10  Active   Remote  Morning    NaN   \n",
      "\n",
      "      Salary_Normalized Experience Level  \n",
      "1000                NaN              NaN  \n"
     ]
    }
   ],
   "source": [
    "# 18. Add a new row\n",
    "new_row = {\n",
    "    \"ID\": 999, \"Name\": \"John Doe\", \"Age\": 40, \"Gender\": \"Male\", \"Department\": \"HR\",\n",
    "    \"Salary\": 7000, \"Joining Date\": \"2022-01-01\", \"Performance Score\": 4,\n",
    "    \"Experience\": 10, \"Status\": \"Active\", \"Location\": \"Remote\", \"Session\": \"Morning\"\n",
    "}\n",
    "df = pd.concat([df, pd.DataFrame([new_row])], ignore_index=True)\n",
    "print(\"\\nNew row added. Last 1 row:\\n\", df.tail(1))\n"
   ]
  },
  {
   "cell_type": "code",
   "execution_count": 396,
   "id": "87d207a4-348a-4238-9b41-b56597a3ad00",
   "metadata": {},
   "outputs": [
    {
     "name": "stdout",
     "output_type": "stream",
     "text": [
      "\n",
      "Columns after dropping 'Session':\n",
      " Index(['ID', 'Name', 'Age', 'Gender', 'Department', 'Salary', 'Joining Date',\n",
      "       'Performance Score', 'Experience', 'Status', 'Location', 'Bonus',\n",
      "       'Salary_Normalized', 'Experience Level'],\n",
      "      dtype='object')\n"
     ]
    }
   ],
   "source": [
    "# 19. Delete Session column\n",
    "df.drop(\"Session\", axis=1, inplace=True)\n",
    "print(\"\\nColumns after dropping 'Session':\\n\", df.columns)"
   ]
  },
  {
   "cell_type": "code",
   "execution_count": 397,
   "id": "e9c95fe6-76c7-4915-b23b-599466ee985a",
   "metadata": {},
   "outputs": [
    {
     "name": "stdout",
     "output_type": "stream",
     "text": [
      "\n",
      "Rows after removing Age > 60:\n",
      " (894, 14)\n"
     ]
    }
   ],
   "source": [
    "# 20. Delete rows where Age > 60\n",
    "df = df[df[\"Age\"] <= 60]\n",
    "print(\"\\nRows after removing Age > 60:\\n\", df.shape)"
   ]
  },
  {
   "cell_type": "code",
   "execution_count": 398,
   "id": "39edd763-633a-4940-a826-cfd4a1b6dd64",
   "metadata": {},
   "outputs": [
    {
     "name": "stdout",
     "output_type": "stream",
     "text": [
      "\n",
      "Age Group column:\n",
      "    Age    Age Group\n",
      "0   48  Middle-aged\n",
      "1   25        Young\n",
      "2   57       Senior\n",
      "3   58       Senior\n",
      "4   35  Middle-aged\n"
     ]
    }
   ],
   "source": [
    "# 21. Age Group column\n",
    "def age_group(age):\n",
    "    if age < 30:\n",
    "        return \"Young\"\n",
    "    elif age < 50:\n",
    "        return \"Middle-aged\"\n",
    "    else:\n",
    "        return \"Senior\"\n",
    "df[\"Age Group\"] = df[\"Age\"].apply(age_group)\n",
    "print(\"\\nAge Group column:\\n\", df[[\"Age\", \"Age Group\"]].head())"
   ]
  },
  {
   "cell_type": "code",
   "execution_count": 399,
   "id": "2d72dfb5-64a5-4016-96dd-710519edac6e",
   "metadata": {},
   "outputs": [
    {
     "name": "stdout",
     "output_type": "stream",
     "text": [
      "\n",
      "Columns with missing values:\n",
      " ID                     0\n",
      "Name                   0\n",
      "Age                    0\n",
      "Gender                 0\n",
      "Department             0\n",
      "Salary                 0\n",
      "Joining Date           0\n",
      "Performance Score    291\n",
      "Experience             0\n",
      "Status                 0\n",
      "Location               0\n",
      "Bonus                  1\n",
      "Salary_Normalized      1\n",
      "Experience Level       1\n",
      "Age Group              0\n",
      "dtype: int64\n"
     ]
    }
   ],
   "source": [
    "# 22. Missing values\n",
    "print(\"\\nColumns with missing values:\\n\", df.isna().sum())"
   ]
  },
  {
   "cell_type": "code",
   "execution_count": 400,
   "id": "ec5635e5-0efd-4c77-8db1-7069a6c02196",
   "metadata": {},
   "outputs": [
    {
     "name": "stdout",
     "output_type": "stream",
     "text": [
      "\n",
      "Filled missing Performance Score with mean.\n"
     ]
    },
    {
     "name": "stderr",
     "output_type": "stream",
     "text": [
      "C:\\Users\\Dhairya\\AppData\\Local\\Temp\\ipykernel_1152\\2982166079.py:2: FutureWarning: A value is trying to be set on a copy of a DataFrame or Series through chained assignment using an inplace method.\n",
      "The behavior will change in pandas 3.0. This inplace method will never work because the intermediate object on which we are setting values always behaves as a copy.\n",
      "\n",
      "For example, when doing 'df[col].method(value, inplace=True)', try using 'df.method({col: value}, inplace=True)' or df[col] = df[col].method(value) instead, to perform the operation inplace on the original object.\n",
      "\n",
      "\n",
      "  df[\"Performance Score\"].fillna(df[\"Performance Score\"].mean(), inplace=True)\n"
     ]
    }
   ],
   "source": [
    "# 23. Fill missing Performance Score with mean\n",
    "df[\"Performance Score\"].fillna(df[\"Performance Score\"].mean(), inplace=True)\n",
    "print(\"\\nFilled missing Performance Score with mean.\")"
   ]
  },
  {
   "cell_type": "code",
   "execution_count": 401,
   "id": "24af5e9d-ac7e-4c1d-9f3a-0df53cbc5be6",
   "metadata": {},
   "outputs": [
    {
     "name": "stdout",
     "output_type": "stream",
     "text": [
      "\n",
      "Shape after dropping rows with NaNs: (893, 15)\n"
     ]
    }
   ],
   "source": [
    "# 24. Drop all rows with any missing values\n",
    "df_cleaned = df.dropna()\n",
    "print(\"\\nShape after dropping rows with NaNs:\", df_cleaned.shape)"
   ]
  },
  {
   "cell_type": "code",
   "execution_count": 402,
   "id": "6f28bdbc-372c-4d09-9456-9928a3fd8728",
   "metadata": {},
   "outputs": [
    {
     "name": "stdout",
     "output_type": "stream",
     "text": [
      "\n",
      "Performance Score filled with department median.\n"
     ]
    }
   ],
   "source": [
    "# 25. Fill Performance Score by department median\n",
    "df[\"Performance Score\"] = df.groupby(\"Department\")[\"Performance Score\"].transform(lambda x: x.fillna(x.median()))\n",
    "print(\"\\nPerformance Score filled with department median.\")"
   ]
  },
  {
   "cell_type": "code",
   "execution_count": 403,
   "id": "d4c752f0-7185-4892-b1b3-458b7cbc5874",
   "metadata": {},
   "outputs": [
    {
     "name": "stdout",
     "output_type": "stream",
     "text": [
      "\n",
      "IT employees above avg age:\n",
      "        ID                Name  Age  Gender Department  Salary Joining Date  \\\n",
      "3       4  Christine Williams   58  Female         IT    5895   2017-09-08   \n",
      "33     34    Mr. Brian Nelson   42  Female         IT    5207   2017-08-17   \n",
      "34     35            Lisa Fry   51  Female         IT    9259   2017-09-26   \n",
      "41     42      Charles Mccall   58   Other         IT    9512   2024-11-10   \n",
      "47     48        Jake Johnson   48   Other         IT    5848   2017-02-03   \n",
      "..    ...                 ...  ...     ...        ...     ...          ...   \n",
      "979   980    Crystal Espinoza   55  Female         IT    4952   2023-09-04   \n",
      "984   985        Jeffrey Hall   41   Other         IT    8768   2018-08-27   \n",
      "986   987     Melissa Bradley   39  Female         IT    9618   2015-07-05   \n",
      "998   999       Ashley Taylor   51  Female         IT    5437   2022-02-18   \n",
      "999  1000         Shawn Scott   45    Male         IT    7364   2022-07-31   \n",
      "\n",
      "     Performance Score  Experience   Status     Location  Bonus  \\\n",
      "3                  2.0          13  Retired       Remote  589.5   \n",
      "33                 1.0           4   Active       Remote  520.7   \n",
      "34                 4.0          17  Retired  Los Angeles  925.9   \n",
      "41                 5.0           8  Retired  Los Angeles  951.2   \n",
      "47                 3.0           2   Active  Los Angeles  584.8   \n",
      "..                 ...         ...      ...          ...    ...   \n",
      "979                2.0           5   Active       Remote  495.2   \n",
      "984                3.0          16  Retired  Los Angeles  876.8   \n",
      "986                1.0          13   Active       Remote  961.8   \n",
      "998                4.0           9  Retired  Los Angeles  543.7   \n",
      "999                2.0           4   Active       Remote  736.4   \n",
      "\n",
      "     Salary_Normalized Experience Level    Age Group  \n",
      "3             0.486337              Mid       Senior  \n",
      "33            0.400100           Junior  Middle-aged  \n",
      "34            0.907997           Senior       Senior  \n",
      "41            0.939709              Mid       Senior  \n",
      "47            0.480446           Junior  Middle-aged  \n",
      "..                 ...              ...          ...  \n",
      "979           0.368137              Mid       Senior  \n",
      "984           0.846453           Senior  Middle-aged  \n",
      "986           0.952996              Mid  Middle-aged  \n",
      "998           0.428930              Mid       Senior  \n",
      "999           0.670469           Junior  Middle-aged  \n",
      "\n",
      "[150 rows x 15 columns]\n"
     ]
    }
   ],
   "source": [
    "# 26. IT and Age above avg\n",
    "avg_age_it = df[df[\"Department\"] == \"IT\"][\"Age\"].mean()\n",
    "print(\"\\nIT employees above avg age:\\n\", df[(df[\"Department\"] == \"IT\") & (df[\"Age\"] > avg_age_it)])"
   ]
  },
  {
   "cell_type": "code",
   "execution_count": 404,
   "id": "5ae3a307-caa8-41d0-8df4-5d21d505bfaf",
   "metadata": {},
   "outputs": [
    {
     "name": "stdout",
     "output_type": "stream",
     "text": [
      "\n",
      "Removed duplicates based on Name and Joining Date.\n"
     ]
    }
   ],
   "source": [
    "# 27. Remove duplicate Name + Joining Date\n",
    "df.drop_duplicates(subset=[\"Name\", \"Joining Date\"], inplace=True)\n",
    "print(\"\\nRemoved duplicates based on Name and Joining Date.\")"
   ]
  },
  {
   "cell_type": "code",
   "execution_count": 405,
   "id": "0076257b-3428-48e4-a5f3-d3beb08730d1",
   "metadata": {},
   "outputs": [
    {
     "name": "stdout",
     "output_type": "stream",
     "text": [
      "\n",
      "Removed rows with inconsistent Experience.\n"
     ]
    }
   ],
   "source": [
    "# 28. Remove rows where Experience > Age - 18\n",
    "df = df[df[\"Experience\"] <= (df[\"Age\"] - 18)]\n",
    "print(\"\\nRemoved rows with inconsistent Experience.\")"
   ]
  },
  {
   "cell_type": "code",
   "execution_count": 406,
   "id": "7185df61-baa0-436a-80ca-4c999e553dcd",
   "metadata": {},
   "outputs": [
    {
     "name": "stdout",
     "output_type": "stream",
     "text": [
      "\n",
      "29. Top 5 highest salaries:\n",
      "                    Name  Salary\n",
      "811        Jesse Miller    9993\n",
      "531  Jeffrey Williamson    9988\n",
      "937       Gary Mitchell    9963\n",
      "908       Sara Martinez    9951\n",
      "120       David Hampton    9941\n"
     ]
    }
   ],
   "source": [
    "# 29. Sort by Salary descending\n",
    "df_sorted_salary = df.sort_values(by=\"Salary\", ascending=False)\n",
    "print(\"\\n29. Top 5 highest salaries:\\n\", df_sorted_salary[[\"Name\", \"Salary\"]].head())"
   ]
  },
  {
   "cell_type": "code",
   "execution_count": 407,
   "id": "a40ba965-bdf5-448e-a738-666860a31b61",
   "metadata": {},
   "outputs": [
    {
     "name": "stdout",
     "output_type": "stream",
     "text": [
      "\n",
      "Sorted by Department and Joining Date:\n",
      "     Department Joining Date\n",
      "514         HR   2015-03-10\n",
      "11          HR   2015-03-14\n",
      "7           HR   2015-04-01\n",
      "677         HR   2015-04-25\n",
      "0           HR   2015-05-03\n"
     ]
    }
   ],
   "source": [
    "# 30. Sort by Department, Joining Date\n",
    "df_sorted_dept_date = df.sort_values(by=[\"Department\", \"Joining Date\"])\n",
    "print(\"\\nSorted by Department and Joining Date:\\n\", df_sorted_dept_date[[\"Department\", \"Joining Date\"]].head())"
   ]
  },
  {
   "cell_type": "code",
   "execution_count": 408,
   "id": "b9c8c4c0-e860-4aca-8840-e285c9c6b3c0",
   "metadata": {},
   "outputs": [
    {
     "name": "stdout",
     "output_type": "stream",
     "text": [
      "\n",
      "Salary Rank within Department:\n",
      "   Department  Salary  Salary Rank\n",
      "0         HR    5641        115.0\n",
      "2      Sales    3058        191.0\n",
      "3         IT    5895        109.0\n",
      "4         IT    4317        159.0\n",
      "5         HR    2591        196.0\n"
     ]
    }
   ],
   "source": [
    "# 31. Salary rank within Department\n",
    "df[\"Salary Rank\"] = df.groupby(\"Department\")[\"Salary\"].rank(ascending=False)\n",
    "print(\"\\nSalary Rank within Department:\\n\", df[[\"Department\", \"Salary\", \"Salary Rank\"]].head())"
   ]
  },
  {
   "cell_type": "code",
   "execution_count": 409,
   "id": "2bc4cd6a-5227-470c-a223-d3d7d72cee49",
   "metadata": {},
   "outputs": [
    {
     "name": "stdout",
     "output_type": "stream",
     "text": [
      "\n",
      "Sorted by Experience & Perf Score:\n",
      "      Experience  Performance Score\n",
      "355          20                1.0\n",
      "402          20                1.0\n",
      "538          20                1.0\n",
      "828          20                1.0\n",
      "529          20                2.0\n"
     ]
    }
   ],
   "source": [
    "# 32. Sort by Experience desc, Performance Score asc\n",
    "df_sorted_exp_perf = df.sort_values(by=[\"Experience\", \"Performance Score\"], ascending=[False, True])\n",
    "print(\"\\nSorted by Experience & Perf Score:\\n\", df_sorted_exp_perf[[\"Experience\", \"Performance Score\"]].head())"
   ]
  },
  {
   "cell_type": "code",
   "execution_count": 410,
   "id": "e92e8aac-9bb1-422d-94c1-40c745b6acdd",
   "metadata": {},
   "outputs": [
    {
     "name": "stdout",
     "output_type": "stream",
     "text": [
      "\n",
      "HR employees with Salary > 5000:\n",
      "        ID               Name  Age  Gender Department  Salary Joining Date  \\\n",
      "0       1       Cory Escobar   48  Female         HR    5641   2015-05-03   \n",
      "7       8       Amanda Baker   52   Other         HR    6285   2015-04-01   \n",
      "11     12  Rodney Richardson   60   Other         HR    6908   2015-03-14   \n",
      "16     17     Jonathan Perez   59    Male         HR    6586   2019-02-19   \n",
      "18     19     Nancy Stephens   38    Male         HR    9061   2017-07-16   \n",
      "...   ...                ...  ...     ...        ...     ...          ...   \n",
      "944   945     Mary Armstrong   29  Female         HR    9402   2017-12-13   \n",
      "953   954       Ruth Osborne   53    Male         HR    5616   2022-07-31   \n",
      "958   959     Morgan Coleman   51  Female         HR    6415   2022-03-20   \n",
      "983   984        David Moody   43    Male         HR    8830   2021-09-10   \n",
      "1000  999           John Doe   40    Male         HR    7000   2022-01-01   \n",
      "\n",
      "      Performance Score  Experience   Status     Location  Bonus  \\\n",
      "0              2.000000          16   Active       Remote  564.1   \n",
      "7              3.442786           8  Retired      Chicago  628.5   \n",
      "11             4.000000          19   Active      Chicago  690.8   \n",
      "16             3.000000           7  Retired  Los Angeles  658.6   \n",
      "18             5.000000          16  Retired      Chicago  906.1   \n",
      "...                 ...         ...      ...          ...    ...   \n",
      "944            3.442786           2   Active     New York  940.2   \n",
      "953            4.000000          16   Active  Los Angeles  561.6   \n",
      "958            1.000000           8  Retired       Remote  641.5   \n",
      "983            3.442786          19  Retired      Chicago  883.0   \n",
      "1000           4.000000          10   Active       Remote    NaN   \n",
      "\n",
      "      Salary_Normalized Experience Level    Age Group  Salary Rank  \n",
      "0              0.454500           Senior  Middle-aged        115.0  \n",
      "7              0.535222              Mid       Senior        104.0  \n",
      "11             0.613312           Senior       Senior         82.0  \n",
      "16             0.572951              Mid       Senior         94.0  \n",
      "18             0.883179           Senior  Middle-aged         20.0  \n",
      "...                 ...              ...          ...          ...  \n",
      "944            0.925921           Junior        Young         12.0  \n",
      "953            0.451366           Senior       Senior        116.0  \n",
      "958            0.551517              Mid       Senior        100.0  \n",
      "983            0.854224           Senior  Middle-aged         25.0  \n",
      "1000                NaN              NaN  Middle-aged         78.0  \n",
      "\n",
      "[129 rows x 16 columns]\n"
     ]
    }
   ],
   "source": [
    "# 33. HR with Salary > 5000\n",
    "df_hr_5000 = df[(df[\"Department\"] == \"HR\") & (df[\"Salary\"] > 5000)]\n",
    "print(\"\\nHR employees with Salary > 5000:\\n\", df_hr_5000)"
   ]
  },
  {
   "cell_type": "code",
   "execution_count": 411,
   "id": "6dc45bc8-fdac-4387-a6e5-56aa5db4ea4a",
   "metadata": {},
   "outputs": [
    {
     "name": "stdout",
     "output_type": "stream",
     "text": [
      "\n",
      "Data after filtering out Chicago:\n",
      " (493, 16)\n"
     ]
    }
   ],
   "source": [
    "# 34. Filter out Location = Chicago\n",
    "df = df[df[\"Location\"] != \"Chicago\"]\n",
    "print(\"\\nData after filtering out Chicago:\\n\", df.shape)"
   ]
  },
  {
   "cell_type": "code",
   "execution_count": 412,
   "id": "5624bc3e-bcfa-43d0-ac94-b5c1edbbbe71",
   "metadata": {},
   "outputs": [
    {
     "name": "stdout",
     "output_type": "stream",
     "text": [
      "\n",
      "Removed rows with Performance Score < 2: (418, 16)\n"
     ]
    }
   ],
   "source": [
    "# 35. Remove rows where Perf Score < 2\n",
    "df = df[df[\"Performance Score\"] >= 2]\n",
    "print(\"\\nRemoved rows with Performance Score < 2:\", df.shape)"
   ]
  },
  {
   "cell_type": "code",
   "execution_count": 413,
   "id": "ea3e51a7-2d9f-465a-b671-56b20066dc68",
   "metadata": {},
   "outputs": [
    {
     "name": "stdout",
     "output_type": "stream",
     "text": [
      "\n",
      "Avg Salary per Department:\n",
      " Department\n",
      "HR       5997.584000\n",
      "IT       5814.593548\n",
      "Sales    5940.811594\n",
      "Name: Salary, dtype: float64\n"
     ]
    }
   ],
   "source": [
    "# 36. Avg Salary per Department\n",
    "print(\"\\nAvg Salary per Department:\\n\", df.groupby(\"Department\")[\"Salary\"].mean())"
   ]
  },
  {
   "cell_type": "code",
   "execution_count": 414,
   "id": "cbd82b7a-4c80-45c0-b158-78abe8eb0571",
   "metadata": {},
   "outputs": [
    {
     "name": "stdout",
     "output_type": "stream",
     "text": [
      "\n",
      "Total Salary by Status:\n",
      " Status\n",
      "Active     1213997\n",
      "Retired    1256795\n",
      "Name: Salary, dtype: int64\n"
     ]
    }
   ],
   "source": [
    "# 37. Total Salary by Status\n",
    "print(\"\\nTotal Salary by Status:\\n\", df.groupby(\"Status\")[\"Salary\"].sum())"
   ]
  },
  {
   "cell_type": "code",
   "execution_count": 415,
   "id": "f2cf1ef2-ca55-4f35-a750-2cb9f17837a5",
   "metadata": {},
   "outputs": [
    {
     "name": "stdout",
     "output_type": "stream",
     "text": [
      "\n",
      "Max Perf Score per Location:\n",
      " Location\n",
      "Los Angeles    5.0\n",
      "New York       5.0\n",
      "Remote         4.0\n",
      "Name: Performance Score, dtype: float64\n"
     ]
    }
   ],
   "source": [
    "# 38. Max Perf Score per Location\n",
    "print(\"\\nMax Perf Score per Location:\\n\", df.groupby(\"Location\")[\"Performance Score\"].max())"
   ]
  },
  {
   "cell_type": "code",
   "execution_count": 416,
   "id": "99eed8bc-f99d-40cb-8f28-f99529e043bd",
   "metadata": {},
   "outputs": [
    {
     "name": "stdout",
     "output_type": "stream",
     "text": [
      "\n",
      "Total salary by Joining Year:\n",
      " Joining Year\n",
      "2014     15135\n",
      "2015    183612\n",
      "2016    224542\n",
      "2017    229453\n",
      "2018    328109\n",
      "2019    239013\n",
      "2020    213576\n",
      "2021    263590\n",
      "2022    223888\n",
      "2023    296657\n",
      "2024    253217\n",
      "Name: Salary, dtype: int64\n"
     ]
    }
   ],
   "source": [
    "# 39. Total salary per Joining Year\n",
    "df[\"Joining Year\"] = pd.to_datetime(df[\"Joining Date\"]).dt.year\n",
    "print(\"\\nTotal salary by Joining Year:\\n\", df.groupby(\"Joining Year\")[\"Salary\"].sum())"
   ]
  },
  {
   "cell_type": "code",
   "execution_count": 417,
   "id": "692fe0a4-27a0-4220-ada5-c52c0cd75748",
   "metadata": {},
   "outputs": [
    {
     "name": "stdout",
     "output_type": "stream",
     "text": [
      "\n",
      "Dept with highest avg Performance Score: IT\n"
     ]
    }
   ],
   "source": [
    "# 40. Department with highest avg Perf Score\n",
    "print(\"\\nDept with highest avg Performance Score:\", df.groupby(\"Department\")[\"Performance Score\"].mean().idxmax())"
   ]
  },
  {
   "cell_type": "code",
   "execution_count": 418,
   "id": "40d40b3a-c69e-4215-bff3-99bdc1af2b1b",
   "metadata": {},
   "outputs": [],
   "source": [
    "# 41. Count of employees in each Location by Session\n",
    "#Session doesn't exist"
   ]
  },
  {
   "cell_type": "code",
   "execution_count": 419,
   "id": "bd24ab3d-ef7c-47af-b28a-57c052120e0a",
   "metadata": {},
   "outputs": [
    {
     "name": "stdout",
     "output_type": "stream",
     "text": [
      "\n",
      "Salary stats by Status:\n",
      "              sum         mean          std\n",
      "Status                                    \n",
      "Active   1213997  5864.719807  2352.411444\n",
      "Retired  1256795  5956.374408  2334.318738\n"
     ]
    }
   ],
   "source": [
    "# 42. Salary stats by Status\n",
    "print(\"\\nSalary stats by Status:\\n\", df.groupby(\"Status\")[\"Salary\"].agg([\"sum\", \"mean\", \"std\"]))"
   ]
  },
  {
   "cell_type": "code",
   "execution_count": 420,
   "id": "f32c5323-071f-4215-bb2c-b9ff85092eca",
   "metadata": {},
   "outputs": [
    {
     "name": "stdout",
     "output_type": "stream",
     "text": [
      "\n",
      "Monthly Salary:\n",
      "                  Name  Monthly Salary\n",
      "0        Cory Escobar      470.083333\n",
      "2        Chad Nichols      254.833333\n",
      "3  Christine Williams      491.250000\n",
      "4        Amber Harris      359.750000\n",
      "6         David Olson      568.833333\n"
     ]
    }
   ],
   "source": [
    "# 43. Monthly Salary using apply\n",
    "df[\"Monthly Salary\"] = df[\"Salary\"].apply(lambda x: x / 12)\n",
    "print(\"\\nMonthly Salary:\\n\", df[[\"Name\", \"Monthly Salary\"]].head())"
   ]
  },
  {
   "cell_type": "code",
   "execution_count": 421,
   "id": "073fdcdc-79b8-4e5d-a0ae-5a129f92e3ae",
   "metadata": {},
   "outputs": [
    {
     "name": "stdout",
     "output_type": "stream",
     "text": [
      "\n",
      "Uppercased string values:\n",
      "    ID                Name  Age  Gender Department  Salary Joining Date  \\\n",
      "0   1        CORY ESCOBAR   48  FEMALE         HR    5641   2015-05-03   \n",
      "2   3        CHAD NICHOLS   57   OTHER      SALES    3058   2019-02-12   \n",
      "3   4  CHRISTINE WILLIAMS   58  FEMALE         IT    5895   2017-09-08   \n",
      "4   5        AMBER HARRIS   35   OTHER         IT    4317   2020-02-15   \n",
      "6   7         DAVID OLSON   39  FEMALE      SALES    6826   2023-05-11   \n",
      "\n",
      "   Performance Score  Experience   Status  Location  Bonus  Salary_Normalized  \\\n",
      "0           2.000000          16   ACTIVE    REMOTE  564.1           0.454500   \n",
      "2           3.442786           2  RETIRED  NEW YORK  305.8           0.130735   \n",
      "3           2.000000          13  RETIRED    REMOTE  589.5           0.486337   \n",
      "4           5.000000          16  RETIRED  NEW YORK  431.7           0.288543   \n",
      "6           3.442786           4   ACTIVE  NEW YORK  682.6           0.603033   \n",
      "\n",
      "  Experience Level    Age Group  Salary Rank  Joining Year  Monthly Salary  \n",
      "0           SENIOR  MIDDLE-AGED        115.0          2015      470.083333  \n",
      "2           JUNIOR       SENIOR        191.0          2019      254.833333  \n",
      "3              MID       SENIOR        109.0          2017      491.250000  \n",
      "4           SENIOR  MIDDLE-AGED        159.0          2020      359.750000  \n",
      "6           JUNIOR  MIDDLE-AGED         90.0          2023      568.833333  \n"
     ]
    },
    {
     "name": "stderr",
     "output_type": "stream",
     "text": [
      "C:\\Users\\Dhairya\\AppData\\Local\\Temp\\ipykernel_1152\\3310511903.py:2: FutureWarning: DataFrame.applymap has been deprecated. Use DataFrame.map instead.\n",
      "  df_upper = df.applymap(lambda x: x.upper() if type(x) == str else x)\n"
     ]
    }
   ],
   "source": [
    "# 44. applymap to convert all strings to uppercase\n",
    "df_upper = df.applymap(lambda x: x.upper() if type(x) == str else x)\n",
    "print(\"\\nUppercased string values:\\n\", df_upper.head())"
   ]
  },
  {
   "cell_type": "code",
   "execution_count": 422,
   "id": "40d64458-33fe-471e-9a12-e0c91729c495",
   "metadata": {},
   "outputs": [
    {
     "name": "stdout",
     "output_type": "stream",
     "text": [
      "\n",
      "Merged with department budget:\n",
      "   Department  Budget\n",
      "0         HR  100000\n",
      "1      Sales  120000\n",
      "2         IT  150000\n"
     ]
    }
   ],
   "source": [
    "# 45. Inner join with Dept-Budget\n",
    "dept_budget = pd.DataFrame({\"Department\": [\"HR\", \"IT\", \"Sales\"], \"Budget\": [100000, 150000, 120000]})\n",
    "df_joined = pd.merge(df, dept_budget, on=\"Department\", how=\"inner\")\n",
    "print(\"\\nMerged with department budget:\\n\", df_joined[[\"Department\", \"Budget\"]].drop_duplicates())"
   ]
  },
  {
   "cell_type": "code",
   "execution_count": 423,
   "id": "bd717357-9a7d-4916-ac2e-0361a9da1d81",
   "metadata": {},
   "outputs": [
    {
     "name": "stdout",
     "output_type": "stream",
     "text": [
      "\n",
      "Added Recent Projects column:\n",
      "    ID Recent Projects\n",
      "0   1               B\n",
      "1   3               B\n",
      "2   4               A\n",
      "3   5               A\n",
      "4   7               B\n"
     ]
    }
   ],
   "source": [
    "# 46. Merge with project info\n",
    "project_data = pd.DataFrame({\"ID\": df[\"ID\"].sample(frac=1.0).values, \"Recent Projects\": np.random.choice([\"A\", \"B\", \"C\"], size=len(df))})\n",
    "df = pd.merge(df, project_data, on=\"ID\", how=\"left\")\n",
    "print(\"\\nAdded Recent Projects column:\\n\", df[[\"ID\", \"Recent Projects\"]].head())"
   ]
  },
  {
   "cell_type": "code",
   "execution_count": 424,
   "id": "363a4b4b-34de-482f-b47d-9812ab4f35a2",
   "metadata": {},
   "outputs": [
    {
     "name": "stdout",
     "output_type": "stream",
     "text": [
      "\n",
      "Added Team Lead info:\n",
      "   Department Team Lead\n",
      "0         HR     Alice\n",
      "1      Sales     Carol\n",
      "2         IT       Bob\n"
     ]
    }
   ],
   "source": [
    "# 47. Left join with Team Lead\n",
    "tls = pd.DataFrame({\"Department\": [\"HR\", \"IT\", \"Sales\"], \"Team Lead\": [\"Alice\", \"Bob\", \"Carol\"]})\n",
    "df = pd.merge(df, tls, on=\"Department\", how=\"left\")\n",
    "print(\"\\nAdded Team Lead info:\\n\", df[[\"Department\", \"Team Lead\"]].drop_duplicates())"
   ]
  },
  {
   "cell_type": "code",
   "execution_count": 425,
   "id": "96bbfad1-1c41-41d3-8a72-566cc4e3d586",
   "metadata": {},
   "outputs": [
    {
     "name": "stdout",
     "output_type": "stream",
     "text": [
      "\n",
      "Salary per Project:\n",
      "                  Name  Project Count  Salary per Project\n",
      "0        Cory Escobar              5              1128.2\n",
      "1        Chad Nichols              5               611.6\n",
      "2  Christine Williams              2              2947.5\n",
      "3        Amber Harris              2              2158.5\n",
      "4         David Olson              4              1706.5\n"
     ]
    }
   ],
   "source": [
    "# 48. Merge Project Count & Salary per Project\n",
    "proj_counts = pd.DataFrame({\"ID\": df[\"ID\"], \"Project Count\": np.random.randint(1, 6, size=len(df))})\n",
    "df = pd.merge(df, proj_counts, on=\"ID\", how=\"left\")\n",
    "df[\"Salary per Project\"] = df[\"Salary\"] / df[\"Project Count\"]\n",
    "print(\"\\nSalary per Project:\\n\", df[[\"Name\", \"Project Count\", \"Salary per Project\"]].head())"
   ]
  },
  {
   "cell_type": "code",
   "execution_count": 426,
   "id": "11c053cf-3f5e-4d9b-9fc8-a35a6d1bf3fe",
   "metadata": {},
   "outputs": [
    {
     "name": "stdout",
     "output_type": "stream",
     "text": [
      "\n",
      "Salary % Increase vs Dept Avg:\n",
      "                  Name Department  Salary  Salary % Increase\n",
      "0        Cory Escobar         HR    5641          -6.771771\n",
      "1        Chad Nichols      Sales    3058         -48.525552\n",
      "2  Christine Williams         IT    5895           1.668120\n",
      "3        Amber Harris         IT    4317         -25.546858\n",
      "4         David Olson      Sales    6826          14.900126\n"
     ]
    }
   ],
   "source": [
    "# 49. Salary % increase vs dept average\n",
    "dept_avg_salary = df.groupby(\"Department\")[\"Salary\"].transform(\"mean\")\n",
    "df[\"Salary % Increase\"] = ((df[\"Salary\"] - dept_avg_salary) / dept_avg_salary) * 100\n",
    "print(\"\\nSalary % Increase vs Dept Avg:\\n\", df[[\"Name\", \"Department\", \"Salary\", \"Salary % Increase\"]].head())"
   ]
  },
  {
   "cell_type": "code",
   "execution_count": 427,
   "id": "d88a17da-83da-4374-9bb8-5e238c1beea9",
   "metadata": {},
   "outputs": [
    {
     "name": "stdout",
     "output_type": "stream",
     "text": [
      "Project Completed. Final DataFrame shape: (432, 23)\n"
     ]
    }
   ],
   "source": [
    "print(\"Project Completed. Final DataFrame shape:\", df.shape)"
   ]
  },
  {
   "cell_type": "markdown",
   "id": "bdcf6e60-22d9-43ad-80b9-9f171ee3f4e9",
   "metadata": {},
   "source": [
    "Key Insights:\n",
    "\n",
    "- The dataset revealed clear trends based on salary distribution, performance scores, experience, and departmental roles.\n",
    "- Employees in the Sales and IT departments generally had higher salary ranks, and top performers were consistently assigned higher bonuses.\n",
    "- Experience and performance scores were positively correlated, and bonus calculations allowed us to quantify high-performers across the organization.\n",
    "- By using techniques like normalization, grouping, ranking, and advanced filtering (e.g., top 10% earners), we were able to generate insights useful for strategic HR decisions."
   ]
  }
 ],
 "metadata": {
  "kernelspec": {
   "display_name": "Python 3 (ipykernel)",
   "language": "python",
   "name": "python3"
  },
  "language_info": {
   "codemirror_mode": {
    "name": "ipython",
    "version": 3
   },
   "file_extension": ".py",
   "mimetype": "text/x-python",
   "name": "python",
   "nbconvert_exporter": "python",
   "pygments_lexer": "ipython3",
   "version": "3.12.3"
  }
 },
 "nbformat": 4,
 "nbformat_minor": 5
}
